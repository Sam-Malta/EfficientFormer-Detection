{
 "cells": [
  {
   "cell_type": "markdown",
   "metadata": {},
   "source": [
    "# Efficient Former Backbone"
   ]
  },
  {
   "cell_type": "code",
   "execution_count": 2,
   "metadata": {},
   "outputs": [
    {
     "name": "stdout",
     "output_type": "stream",
     "text": [
      "Requirement already satisfied: torch in /Users/sam/opt/anaconda3/envs/EfficientFormer/lib/python3.10/site-packages (2.1.0)\n",
      "Requirement already satisfied: torchvision in /Users/sam/opt/anaconda3/envs/EfficientFormer/lib/python3.10/site-packages (0.16.0)\n",
      "Requirement already satisfied: matplotlib in /Users/sam/opt/anaconda3/envs/EfficientFormer/lib/python3.10/site-packages (3.8.0)\n",
      "Requirement already satisfied: numpy in /Users/sam/opt/anaconda3/envs/EfficientFormer/lib/python3.10/site-packages (1.26.1)\n",
      "Requirement already satisfied: timm in /Users/sam/opt/anaconda3/envs/EfficientFormer/lib/python3.10/site-packages (0.9.8)\n",
      "Requirement already satisfied: mmdet in /Users/sam/opt/anaconda3/envs/EfficientFormer/lib/python3.10/site-packages (3.2.0)\n",
      "Requirement already satisfied: mmcv-full in /Users/sam/opt/anaconda3/envs/EfficientFormer/lib/python3.10/site-packages (1.7.1)\n",
      "Requirement already satisfied: filelock in /Users/sam/opt/anaconda3/envs/EfficientFormer/lib/python3.10/site-packages (from torch) (3.12.4)\n",
      "Requirement already satisfied: typing-extensions in /Users/sam/opt/anaconda3/envs/EfficientFormer/lib/python3.10/site-packages (from torch) (4.7.1)\n",
      "Requirement already satisfied: sympy in /Users/sam/opt/anaconda3/envs/EfficientFormer/lib/python3.10/site-packages (from torch) (1.12)\n",
      "Requirement already satisfied: networkx in /Users/sam/opt/anaconda3/envs/EfficientFormer/lib/python3.10/site-packages (from torch) (3.2)\n",
      "Requirement already satisfied: jinja2 in /Users/sam/opt/anaconda3/envs/EfficientFormer/lib/python3.10/site-packages (from torch) (3.1.2)\n",
      "Requirement already satisfied: fsspec in /Users/sam/opt/anaconda3/envs/EfficientFormer/lib/python3.10/site-packages (from torch) (2023.10.0)\n",
      "Requirement already satisfied: requests in /Users/sam/opt/anaconda3/envs/EfficientFormer/lib/python3.10/site-packages (from torchvision) (2.31.0)\n",
      "Requirement already satisfied: pillow!=8.3.*,>=5.3.0 in /Users/sam/opt/anaconda3/envs/EfficientFormer/lib/python3.10/site-packages (from torchvision) (10.1.0)\n",
      "Requirement already satisfied: contourpy>=1.0.1 in /Users/sam/opt/anaconda3/envs/EfficientFormer/lib/python3.10/site-packages (from matplotlib) (1.1.1)\n",
      "Requirement already satisfied: cycler>=0.10 in /Users/sam/opt/anaconda3/envs/EfficientFormer/lib/python3.10/site-packages (from matplotlib) (0.12.1)\n",
      "Requirement already satisfied: fonttools>=4.22.0 in /Users/sam/opt/anaconda3/envs/EfficientFormer/lib/python3.10/site-packages (from matplotlib) (4.43.1)\n",
      "Requirement already satisfied: kiwisolver>=1.0.1 in /Users/sam/opt/anaconda3/envs/EfficientFormer/lib/python3.10/site-packages (from matplotlib) (1.4.5)\n",
      "Requirement already satisfied: packaging>=20.0 in /Users/sam/opt/anaconda3/envs/EfficientFormer/lib/python3.10/site-packages (from matplotlib) (23.1)\n",
      "Requirement already satisfied: pyparsing>=2.3.1 in /Users/sam/opt/anaconda3/envs/EfficientFormer/lib/python3.10/site-packages (from matplotlib) (3.1.1)\n",
      "Requirement already satisfied: python-dateutil>=2.7 in /Users/sam/opt/anaconda3/envs/EfficientFormer/lib/python3.10/site-packages (from matplotlib) (2.8.2)\n",
      "Requirement already satisfied: pyyaml in /Users/sam/opt/anaconda3/envs/EfficientFormer/lib/python3.10/site-packages (from timm) (6.0.1)\n",
      "Requirement already satisfied: huggingface-hub in /Users/sam/opt/anaconda3/envs/EfficientFormer/lib/python3.10/site-packages (from timm) (0.18.0)\n",
      "Requirement already satisfied: safetensors in /Users/sam/opt/anaconda3/envs/EfficientFormer/lib/python3.10/site-packages (from timm) (0.4.0)\n",
      "Requirement already satisfied: pycocotools in /Users/sam/opt/anaconda3/envs/EfficientFormer/lib/python3.10/site-packages (from mmdet) (2.0.7)\n",
      "Requirement already satisfied: scipy in /Users/sam/opt/anaconda3/envs/EfficientFormer/lib/python3.10/site-packages (from mmdet) (1.11.3)\n",
      "Requirement already satisfied: shapely in /Users/sam/opt/anaconda3/envs/EfficientFormer/lib/python3.10/site-packages (from mmdet) (2.0.2)\n",
      "Requirement already satisfied: six in /Users/sam/opt/anaconda3/envs/EfficientFormer/lib/python3.10/site-packages (from mmdet) (1.16.0)\n",
      "Requirement already satisfied: terminaltables in /Users/sam/opt/anaconda3/envs/EfficientFormer/lib/python3.10/site-packages (from mmdet) (3.1.10)\n",
      "Requirement already satisfied: tqdm in /Users/sam/opt/anaconda3/envs/EfficientFormer/lib/python3.10/site-packages (from mmdet) (4.66.1)\n",
      "Requirement already satisfied: addict in /Users/sam/opt/anaconda3/envs/EfficientFormer/lib/python3.10/site-packages (from mmcv-full) (2.4.0)\n",
      "Requirement already satisfied: yapf in /Users/sam/opt/anaconda3/envs/EfficientFormer/lib/python3.10/site-packages (from mmcv-full) (0.40.2)\n",
      "Requirement already satisfied: opencv-python>=3 in /Users/sam/opt/anaconda3/envs/EfficientFormer/lib/python3.10/site-packages (from mmcv-full) (4.8.1.78)\n",
      "Requirement already satisfied: MarkupSafe>=2.0 in /Users/sam/opt/anaconda3/envs/EfficientFormer/lib/python3.10/site-packages (from jinja2->torch) (2.1.1)\n",
      "Requirement already satisfied: charset-normalizer<4,>=2 in /Users/sam/opt/anaconda3/envs/EfficientFormer/lib/python3.10/site-packages (from requests->torchvision) (2.0.4)\n",
      "Requirement already satisfied: idna<4,>=2.5 in /Users/sam/opt/anaconda3/envs/EfficientFormer/lib/python3.10/site-packages (from requests->torchvision) (3.4)\n",
      "Requirement already satisfied: urllib3<3,>=1.21.1 in /Users/sam/opt/anaconda3/envs/EfficientFormer/lib/python3.10/site-packages (from requests->torchvision) (1.26.18)\n",
      "Requirement already satisfied: certifi>=2017.4.17 in /Users/sam/opt/anaconda3/envs/EfficientFormer/lib/python3.10/site-packages (from requests->torchvision) (2023.7.22)\n",
      "Requirement already satisfied: mpmath>=0.19 in /Users/sam/opt/anaconda3/envs/EfficientFormer/lib/python3.10/site-packages (from sympy->torch) (1.3.0)\n",
      "Requirement already satisfied: importlib-metadata>=6.6.0 in /Users/sam/opt/anaconda3/envs/EfficientFormer/lib/python3.10/site-packages (from yapf->mmcv-full) (6.8.0)\n",
      "Requirement already satisfied: platformdirs>=3.5.1 in /Users/sam/opt/anaconda3/envs/EfficientFormer/lib/python3.10/site-packages (from yapf->mmcv-full) (3.10.0)\n",
      "Requirement already satisfied: tomli>=2.0.1 in /Users/sam/opt/anaconda3/envs/EfficientFormer/lib/python3.10/site-packages (from yapf->mmcv-full) (2.0.1)\n",
      "Requirement already satisfied: zipp>=0.5 in /Users/sam/opt/anaconda3/envs/EfficientFormer/lib/python3.10/site-packages (from importlib-metadata>=6.6.0->yapf->mmcv-full) (3.17.0)\n"
     ]
    }
   ],
   "source": [
    "!pip install torch torchvision matplotlib numpy timm mmdet mmcv-full\n"
   ]
  },
  {
   "cell_type": "code",
   "execution_count": 3,
   "metadata": {},
   "outputs": [
    {
     "name": "stdout",
     "output_type": "stream",
     "text": [
      "If for detection, please install mmdetection first\n"
     ]
    },
    {
     "name": "stderr",
     "output_type": "stream",
     "text": [
      "/Users/sam/opt/anaconda3/envs/EfficientFormer/lib/python3.10/site-packages/mmcv/__init__.py:20: UserWarning: On January 1, 2023, MMCV will release v2.0.0, in which it will remove components related to the training process and add a data transformation module. In addition, it will rename the package names mmcv to mmcv-lite and mmcv-full to mmcv. See https://github.com/open-mmlab/mmcv/blob/master/docs/en/compatibility.md for more details.\n",
      "  warnings.warn(\n"
     ]
    }
   ],
   "source": [
    "# Imports\n",
    "import torch\n",
    "from torchvision.models.detection import MaskRCNN\n",
    "from torchvision.models.detection.backbone_utils import resnet_fpn_backbone\n",
    "from torch.utils.data import DataLoader\n",
    "from torchvision.datasets import CocoDetection\n",
    "from torchvision.transforms import Compose, ToTensor\n",
    "from EfficientFormer import EfficientFormer\n"
   ]
  },
  {
   "cell_type": "code",
   "execution_count": 4,
   "metadata": {},
   "outputs": [
    {
     "name": "stdout",
     "output_type": "stream",
     "text": [
      "loading annotations into memory...\n"
     ]
    },
    {
     "ename": "FileNotFoundError",
     "evalue": "[Errno 2] No such file or directory: 'path/to/annotations/train.json'",
     "output_type": "error",
     "traceback": [
      "\u001b[0;31m---------------------------------------------------------------------------\u001b[0m",
      "\u001b[0;31mFileNotFoundError\u001b[0m                         Traceback (most recent call last)",
      "\u001b[1;32m/Users/sam/Desktop/EfficientFormer/train.ipynb Cell 4\u001b[0m line \u001b[0;36m2\n\u001b[1;32m      <a href='vscode-notebook-cell:/Users/sam/Desktop/EfficientFormer/train.ipynb#W3sZmlsZQ%3D%3D?line=0'>1</a>\u001b[0m \u001b[39m# Define your dataset and dataloader\u001b[39;00m\n\u001b[0;32m----> <a href='vscode-notebook-cell:/Users/sam/Desktop/EfficientFormer/train.ipynb#W3sZmlsZQ%3D%3D?line=1'>2</a>\u001b[0m train_dataset \u001b[39m=\u001b[39m CocoDetection(root\u001b[39m=\u001b[39;49m\u001b[39m'\u001b[39;49m\u001b[39mpath/to/coco\u001b[39;49m\u001b[39m'\u001b[39;49m, annFile\u001b[39m=\u001b[39;49m\u001b[39m'\u001b[39;49m\u001b[39mpath/to/annotations/train.json\u001b[39;49m\u001b[39m'\u001b[39;49m, transform\u001b[39m=\u001b[39;49mCompose([ToTensor()]))\n\u001b[1;32m      <a href='vscode-notebook-cell:/Users/sam/Desktop/EfficientFormer/train.ipynb#W3sZmlsZQ%3D%3D?line=2'>3</a>\u001b[0m train_dataloader \u001b[39m=\u001b[39m DataLoader(train_dataset, batch_size\u001b[39m=\u001b[39m\u001b[39m32\u001b[39m, shuffle\u001b[39m=\u001b[39m\u001b[39mTrue\u001b[39;00m)\n\u001b[1;32m      <a href='vscode-notebook-cell:/Users/sam/Desktop/EfficientFormer/train.ipynb#W3sZmlsZQ%3D%3D?line=4'>5</a>\u001b[0m \u001b[39m# Create the EfficientFormer model\u001b[39;00m\n",
      "File \u001b[0;32m~/opt/anaconda3/envs/EfficientFormer/lib/python3.10/site-packages/torchvision/datasets/coco.py:36\u001b[0m, in \u001b[0;36mCocoDetection.__init__\u001b[0;34m(self, root, annFile, transform, target_transform, transforms)\u001b[0m\n\u001b[1;32m     33\u001b[0m \u001b[39msuper\u001b[39m()\u001b[39m.\u001b[39m\u001b[39m__init__\u001b[39m(root, transforms, transform, target_transform)\n\u001b[1;32m     34\u001b[0m \u001b[39mfrom\u001b[39;00m \u001b[39mpycocotools\u001b[39;00m\u001b[39m.\u001b[39;00m\u001b[39mcoco\u001b[39;00m \u001b[39mimport\u001b[39;00m COCO\n\u001b[0;32m---> 36\u001b[0m \u001b[39mself\u001b[39m\u001b[39m.\u001b[39mcoco \u001b[39m=\u001b[39m COCO(annFile)\n\u001b[1;32m     37\u001b[0m \u001b[39mself\u001b[39m\u001b[39m.\u001b[39mids \u001b[39m=\u001b[39m \u001b[39mlist\u001b[39m(\u001b[39msorted\u001b[39m(\u001b[39mself\u001b[39m\u001b[39m.\u001b[39mcoco\u001b[39m.\u001b[39mimgs\u001b[39m.\u001b[39mkeys()))\n",
      "File \u001b[0;32m~/opt/anaconda3/envs/EfficientFormer/lib/python3.10/site-packages/pycocotools/coco.py:81\u001b[0m, in \u001b[0;36mCOCO.__init__\u001b[0;34m(self, annotation_file)\u001b[0m\n\u001b[1;32m     79\u001b[0m \u001b[39mprint\u001b[39m(\u001b[39m'\u001b[39m\u001b[39mloading annotations into memory...\u001b[39m\u001b[39m'\u001b[39m)\n\u001b[1;32m     80\u001b[0m tic \u001b[39m=\u001b[39m time\u001b[39m.\u001b[39mtime()\n\u001b[0;32m---> 81\u001b[0m \u001b[39mwith\u001b[39;00m \u001b[39mopen\u001b[39;49m(annotation_file, \u001b[39m'\u001b[39;49m\u001b[39mr\u001b[39;49m\u001b[39m'\u001b[39;49m) \u001b[39mas\u001b[39;00m f:\n\u001b[1;32m     82\u001b[0m     dataset \u001b[39m=\u001b[39m json\u001b[39m.\u001b[39mload(f)\n\u001b[1;32m     83\u001b[0m \u001b[39massert\u001b[39;00m \u001b[39mtype\u001b[39m(dataset)\u001b[39m==\u001b[39m\u001b[39mdict\u001b[39m, \u001b[39m'\u001b[39m\u001b[39mannotation file format \u001b[39m\u001b[39m{}\u001b[39;00m\u001b[39m not supported\u001b[39m\u001b[39m'\u001b[39m\u001b[39m.\u001b[39mformat(\u001b[39mtype\u001b[39m(dataset))\n",
      "\u001b[0;31mFileNotFoundError\u001b[0m: [Errno 2] No such file or directory: 'path/to/annotations/train.json'"
     ]
    }
   ],
   "source": [
    "# Define your dataset and dataloader\n",
    "train_dataset = CocoDetection(root='path/to/coco', annFile='path/to/annotations/train.json', transform=Compose([ToTensor()]))\n",
    "train_dataloader = DataLoader(train_dataset, batch_size=32, shuffle=True)\n",
    "\n",
    "# Create the EfficientFormer model\n",
    "model = EfficientFormer()\n",
    "optimizer = torch.optim.AdamW(model.parameters(), lr=2e-4) # as recommended by the paper\n",
    "criterion = torch.nn.CrossEntropyLoss()\n"
   ]
  },
  {
   "cell_type": "markdown",
   "metadata": {},
   "source": [
    "## Training loop\n"
   ]
  },
  {
   "cell_type": "code",
   "execution_count": 1,
   "metadata": {},
   "outputs": [
    {
     "ename": "NameError",
     "evalue": "name 'train_dataloader' is not defined",
     "output_type": "error",
     "traceback": [
      "\u001b[0;31m---------------------------------------------------------------------------\u001b[0m",
      "\u001b[0;31mNameError\u001b[0m                                 Traceback (most recent call last)",
      "\u001b[1;32m/Users/sam/Desktop/EfficientFormer/train.ipynb Cell 6\u001b[0m line \u001b[0;36m4\n\u001b[1;32m      <a href='vscode-notebook-cell:/Users/sam/Desktop/EfficientFormer/train.ipynb#W5sZmlsZQ%3D%3D?line=1'>2</a>\u001b[0m \u001b[39mfor\u001b[39;00m epoch \u001b[39min\u001b[39;00m \u001b[39mrange\u001b[39m(num_epochs):\n\u001b[1;32m      <a href='vscode-notebook-cell:/Users/sam/Desktop/EfficientFormer/train.ipynb#W5sZmlsZQ%3D%3D?line=2'>3</a>\u001b[0m     running_loss \u001b[39m=\u001b[39m \u001b[39m0.0\u001b[39m\n\u001b[0;32m----> <a href='vscode-notebook-cell:/Users/sam/Desktop/EfficientFormer/train.ipynb#W5sZmlsZQ%3D%3D?line=3'>4</a>\u001b[0m     \u001b[39mfor\u001b[39;00m i, data \u001b[39min\u001b[39;00m \u001b[39menumerate\u001b[39m(train_dataloader, \u001b[39m0\u001b[39m):\n\u001b[1;32m      <a href='vscode-notebook-cell:/Users/sam/Desktop/EfficientFormer/train.ipynb#W5sZmlsZQ%3D%3D?line=4'>5</a>\u001b[0m         \u001b[39m# Get the inputs and labels\u001b[39;00m\n\u001b[1;32m      <a href='vscode-notebook-cell:/Users/sam/Desktop/EfficientFormer/train.ipynb#W5sZmlsZQ%3D%3D?line=5'>6</a>\u001b[0m         inputs, labels \u001b[39m=\u001b[39m data\n\u001b[1;32m      <a href='vscode-notebook-cell:/Users/sam/Desktop/EfficientFormer/train.ipynb#W5sZmlsZQ%3D%3D?line=7'>8</a>\u001b[0m         \u001b[39m# Zero the parameter gradients\u001b[39;00m\n",
      "\u001b[0;31mNameError\u001b[0m: name 'train_dataloader' is not defined"
     ]
    }
   ],
   "source": [
    "num_epochs = 12 # implementation of the paper\n",
    "for epoch in range(num_epochs):\n",
    "    running_loss = 0.0\n",
    "    for i, data in enumerate(train_dataloader, 0):\n",
    "        # Get the inputs and labels\n",
    "        inputs, labels = data\n",
    "\n",
    "        # Zero the parameter gradients\n",
    "        optimizer.zero_grad()\n",
    "\n",
    "        # Forward pass\n",
    "        outputs = model(inputs)\n",
    "        loss = criterion(outputs, labels)\n",
    "\n",
    "        # Backward pass and optimization\n",
    "        loss.backward()\n",
    "        optimizer.step()\n",
    "\n",
    "        # Print statistics\n",
    "        running_loss += loss.item()\n",
    "        if i % 100 == 99:\n",
    "            print('[%d, %5d] loss: %.3f' %\n",
    "                  (epoch + 1, i + 1, running_loss / 100))\n",
    "            running_loss = 0.0"
   ]
  }
 ],
 "metadata": {
  "kernelspec": {
   "display_name": "Python 3",
   "language": "python",
   "name": "python3"
  },
  "language_info": {
   "codemirror_mode": {
    "name": "ipython",
    "version": 3
   },
   "file_extension": ".py",
   "mimetype": "text/x-python",
   "name": "python",
   "nbconvert_exporter": "python",
   "pygments_lexer": "ipython3",
   "version": "3.10.13"
  }
 },
 "nbformat": 4,
 "nbformat_minor": 2
}
